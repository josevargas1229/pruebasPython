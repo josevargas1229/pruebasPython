{
 "cells": [
  {
   "cell_type": "code",
   "execution_count": 32,
   "id": "0a3e7332-2a0e-488a-8963-46b72bc9f233",
   "metadata": {},
   "outputs": [],
   "source": [
    "import pandas as pd\n",
    "\n",
    "df = pd.read_csv('Examen ECBD M1 2025/adult-train-clean3.csv')"
   ]
  },
  {
   "cell_type": "code",
   "execution_count": 33,
   "id": "18f8fde4-be4d-4c57-a0b5-6de1fd2d9c4d",
   "metadata": {},
   "outputs": [
    {
     "data": {
      "text/plain": [
       "relationship\n",
       "Husband           8874\n",
       "Not-in-family     3850\n",
       "Own-child         2088\n",
       "Unmarried         1542\n",
       "Wife              1080\n",
       "Other-relative     382\n",
       "Name: count, dtype: int64"
      ]
     },
     "execution_count": 33,
     "metadata": {},
     "output_type": "execute_result"
    }
   ],
   "source": [
    "df[\"relationship\"].value_counts()"
   ]
  },
  {
   "cell_type": "code",
   "execution_count": 34,
   "id": "f12cdf80-e221-4050-b49c-0ba9f93132ec",
   "metadata": {},
   "outputs": [
    {
     "data": {
      "text/plain": [
       "race\n",
       "White                 15466\n",
       "Black                  1513\n",
       "Asian-Pac-Islander      571\n",
       "Amer-Indian-Eskimo      148\n",
       "Other                   118\n",
       "Name: count, dtype: int64"
      ]
     },
     "execution_count": 34,
     "metadata": {},
     "output_type": "execute_result"
    }
   ],
   "source": [
    "df[\"race\"].value_counts()"
   ]
  },
  {
   "cell_type": "code",
   "execution_count": 35,
   "id": "02d324e6-32c1-425a-b4fd-afa0158ff7f0",
   "metadata": {},
   "outputs": [
    {
     "data": {
      "text/plain": [
       "0    ingreso_bajo\n",
       "1    ingreso_bajo\n",
       "2    ingreso_alto\n",
       "3    ingreso_alto\n",
       "4    ingreso_alto\n",
       "Name: class, dtype: object"
      ]
     },
     "execution_count": 35,
     "metadata": {},
     "output_type": "execute_result"
    }
   ],
   "source": [
    "Y=df.iloc[:,-1]\n",
    "Y.head()"
   ]
  },
  {
   "cell_type": "code",
   "execution_count": 36,
   "id": "27890b3b-1054-4bd8-9379-690d5bf344f7",
   "metadata": {},
   "outputs": [
    {
     "data": {
      "text/plain": [
       "array(['ingreso_bajo', 'ingreso_alto'], dtype=object)"
      ]
     },
     "execution_count": 36,
     "metadata": {},
     "output_type": "execute_result"
    }
   ],
   "source": [
    "df[\"class\"].unique()"
   ]
  },
  {
   "cell_type": "code",
   "execution_count": 37,
   "id": "6b406719-a075-4f6f-b190-4755d1499e6c",
   "metadata": {},
   "outputs": [
    {
     "data": {
      "text/plain": [
       "class\n",
       "ingreso_bajo    9975\n",
       "ingreso_alto    7841\n",
       "Name: count, dtype: int64"
      ]
     },
     "execution_count": 37,
     "metadata": {},
     "output_type": "execute_result"
    }
   ],
   "source": [
    "df[\"class\"].value_counts()"
   ]
  },
  {
   "cell_type": "code",
   "execution_count": 38,
   "id": "1aed9249-dfc2-4c3f-b7a7-2b6ebe6fa336",
   "metadata": {},
   "outputs": [
    {
     "name": "stdout",
     "output_type": "stream",
     "text": [
      "<class 'pandas.core.frame.DataFrame'>\n",
      "RangeIndex: 17816 entries, 0 to 17815\n",
      "Data columns (total 15 columns):\n",
      " #   Column          Non-Null Count  Dtype  \n",
      "---  ------          --------------  -----  \n",
      " 0   age             17816 non-null  int64  \n",
      " 1   workclass       16964 non-null  object \n",
      " 2   fnlwgt          17816 non-null  int64  \n",
      " 3   education       17816 non-null  object \n",
      " 4   education-num   16613 non-null  float64\n",
      " 5   marital-status  17816 non-null  object \n",
      " 6   occupation      16963 non-null  object \n",
      " 7   relationship    17816 non-null  object \n",
      " 8   race            17816 non-null  object \n",
      " 9   sex             17816 non-null  object \n",
      " 10  capital-gain    17816 non-null  int64  \n",
      " 11  capital-loss    17816 non-null  int64  \n",
      " 12  hours-per-week  16424 non-null  float64\n",
      " 13  native-country  17501 non-null  object \n",
      " 14  class           17816 non-null  object \n",
      "dtypes: float64(2), int64(4), object(9)\n",
      "memory usage: 2.0+ MB\n"
     ]
    }
   ],
   "source": [
    "df.info()"
   ]
  },
  {
   "cell_type": "code",
   "execution_count": 39,
   "id": "840069e0-e03f-4ca5-a1ef-560fcaf2cfdc",
   "metadata": {},
   "outputs": [
    {
     "data": {
      "text/plain": [
       "age                  0\n",
       "workclass          852\n",
       "fnlwgt               0\n",
       "education            0\n",
       "education-num     1203\n",
       "marital-status       0\n",
       "occupation         853\n",
       "relationship         0\n",
       "race                 0\n",
       "sex                  0\n",
       "capital-gain         0\n",
       "capital-loss         0\n",
       "hours-per-week    1392\n",
       "native-country     315\n",
       "class                0\n",
       "dtype: int64"
      ]
     },
     "execution_count": 39,
     "metadata": {},
     "output_type": "execute_result"
    }
   ],
   "source": [
    "df.isnull().sum()"
   ]
  },
  {
   "cell_type": "code",
   "execution_count": 40,
   "id": "56078749-255c-4eeb-9c02-09f9a69bd779",
   "metadata": {},
   "outputs": [
    {
     "data": {
      "text/plain": [
       "array([13.,  9., 14., 10., 11.,  4.,  7., 16., 12., 15., nan,  6.,  5.,\n",
       "        3.,  8.,  2.,  1.])"
      ]
     },
     "execution_count": 40,
     "metadata": {},
     "output_type": "execute_result"
    }
   ],
   "source": [
    "df[\"education-num\"].unique()"
   ]
  },
  {
   "cell_type": "code",
   "execution_count": 41,
   "id": "56723d1d-7939-4905-86b6-3a797d1d08ff",
   "metadata": {},
   "outputs": [
    {
     "data": {
      "text/plain": [
       "array([13., 40., 45., 50., nan, 35., 60., 20., 44., 15., 38., 43., 55.,\n",
       "       58., 70.,  2., 48., 28., 30., 24., 46., 65., 42.,  1., 36., 12.,\n",
       "       34., 75., 98., 80., 33., 54., 25.,  6., 16.,  8., 47., 64., 26.,\n",
       "       32.,  5., 59., 18., 56., 52., 99., 62., 41., 72., 37.,  7., 78.,\n",
       "       90., 21., 84., 10.,  3., 53., 68., 22., 49., 11., 27.,  9., 66.,\n",
       "       31., 14., 77., 63., 39., 23., 87., 73., 17., 97.,  4., 29., 85.,\n",
       "       19., 67., 57., 82., 86., 91., 81., 51., 76., 61., 96., 74., 95.,\n",
       "       89.])"
      ]
     },
     "execution_count": 41,
     "metadata": {},
     "output_type": "execute_result"
    }
   ],
   "source": [
    "df[\"hours-per-week\"].unique()"
   ]
  },
  {
   "cell_type": "code",
   "execution_count": 42,
   "id": "73b26aec-11e2-492f-9871-96d17d94d1d9",
   "metadata": {},
   "outputs": [
    {
     "data": {
      "text/plain": [
       "age               0\n",
       "workclass         0\n",
       "fnlwgt            0\n",
       "education         0\n",
       "education-num     0\n",
       "marital-status    0\n",
       "occupation        0\n",
       "relationship      0\n",
       "race              0\n",
       "sex               0\n",
       "capital-gain      0\n",
       "capital-loss      0\n",
       "hours-per-week    0\n",
       "native-country    0\n",
       "class             0\n",
       "dtype: int64"
      ]
     },
     "execution_count": 42,
     "metadata": {},
     "output_type": "execute_result"
    }
   ],
   "source": [
    "from sklearn.impute import SimpleImputer\n",
    "nominal_mode_cols = ['workclass', 'occupation', 'native-country']\n",
    "mode_imputer = SimpleImputer(strategy='most_frequent')\n",
    "df[nominal_mode_cols] = mode_imputer.fit_transform(df[nominal_mode_cols])\n",
    "\n",
    "numeric_median_cols = ['education-num', 'hours-per-week']\n",
    "median_imputer = SimpleImputer(strategy='median')\n",
    "df[numeric_median_cols] = median_imputer.fit_transform(df[numeric_median_cols])\n",
    "\n",
    "df.isnull().sum()"
   ]
  },
  {
   "cell_type": "code",
   "execution_count": 43,
   "id": "bd1d367a-8146-4572-9db5-4769b7f5e5ed",
   "metadata": {},
   "outputs": [],
   "source": [
    "from sklearn.preprocessing import StandardScaler, OrdinalEncoder\n",
    "education_order = [' Bachelors', ' HS-grad', ' Masters', ' Some-college',\n",
    "       ' Assoc-voc', ' 7th-8th', ' 11th', ' Doctorate', ' Assoc-acdm',\n",
    "       ' Prof-school', ' 10th', ' 9th', ' 1st-4th', ' 5th-6th', ' 12th',\n",
    "       ' Preschool']\n",
    "country_order=[' United-States', ' India', ' Mexico', ' South',\n",
    "       ' Puerto-Rico', ' Honduras', ' Canada', ' Iran', ' England',\n",
    "       ' Italy', ' Cambodia', ' Thailand', ' Germany', ' Taiwan',\n",
    "       ' Portugal', ' El-Salvador', ' France', ' Cuba', ' Philippines',\n",
    "       ' Poland', ' Guatemala', ' China', ' Japan', ' Yugoslavia',\n",
    "       ' Jamaica', ' Outlying-US(Guam-USVI-etc)', ' Haiti',\n",
    "       ' Dominican-Republic', ' Nicaragua', ' Greece', ' Trinadad&Tobago',\n",
    "       ' Columbia', ' Peru', ' Vietnam', ' Ecuador', ' Ireland', ' Laos',\n",
    "       ' Scotland', ' Hungary', ' Hong']\n",
    "ordinal_cols = ['education', 'native-country']\n",
    "ordinal_mappings = [\n",
    "    education_order, country_order\n",
    "]\n",
    "ordinal_encoder = OrdinalEncoder(categories=ordinal_mappings)\n",
    "df[ordinal_cols]= ordinal_encoder.fit_transform(df[ordinal_cols])\n"
   ]
  },
  {
   "cell_type": "code",
   "execution_count": 44,
   "id": "69889c09-75b8-4d24-8f2a-96d0f08230ac",
   "metadata": {},
   "outputs": [],
   "source": [
    "nominal_cols = ['relationship', 'race', 'sex', 'workclass', 'occupation','marital-status']\n",
    "df = pd.get_dummies(df, columns=nominal_cols, drop_first=True, dtype=int)\n",
    "X=df.drop(['class'], axis=1)"
   ]
  },
  {
   "cell_type": "code",
   "execution_count": 45,
   "id": "3d37dc24-8b9b-40ef-8fa6-9aa00bf1f2b5",
   "metadata": {},
   "outputs": [],
   "source": [
    "from sklearn.preprocessing import StandardScaler\n",
    "scaler = StandardScaler()\n",
    "X = scaler.fit_transform(X)"
   ]
  },
  {
   "cell_type": "code",
   "execution_count": 46,
   "id": "cc0f5c9b-0945-4b4f-9eb3-c5878ffbb5f8",
   "metadata": {},
   "outputs": [
    {
     "data": {
      "text/plain": [
       "np.float64(0.8105074090704985)"
      ]
     },
     "execution_count": 46,
     "metadata": {},
     "output_type": "execute_result"
    }
   ],
   "source": [
    "from sklearn.model_selection import cross_val_score, KFold\n",
    "from sklearn.svm import SVC\n",
    "model=SVC(kernel='linear',random_state=42)\n",
    "scores=cross_val_score(model, X, Y, cv=4)\n",
    "scores.mean()"
   ]
  }
 ],
 "metadata": {
  "kernelspec": {
   "display_name": "Python 3 (ipykernel)",
   "language": "python",
   "name": "python3"
  },
  "language_info": {
   "codemirror_mode": {
    "name": "ipython",
    "version": 3
   },
   "file_extension": ".py",
   "mimetype": "text/x-python",
   "name": "python",
   "nbconvert_exporter": "python",
   "pygments_lexer": "ipython3",
   "version": "3.13.3"
  }
 },
 "nbformat": 4,
 "nbformat_minor": 5
}
