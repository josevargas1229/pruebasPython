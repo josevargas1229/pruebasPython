{
 "cells": [
  {
   "cell_type": "code",
   "execution_count": null,
   "metadata": {},
   "outputs": [],
   "source": [
    "import pandas as pd\n",
    "import numpy as np\n",
    "from matplotlib import pyplot as plt"
   ]
  },
  {
   "cell_type": "code",
   "execution_count": null,
   "metadata": {},
   "outputs": [],
   "source": [
    "#Leemos los CSV\n",
    "results = pd.read_csv(\"./data/survey_results_public.csv\",index_col=\"ResponseId\")\n",
    "results_schema = pd.read_csv(\"./data/survey_results_schema.csv\")"
   ]
  },
  {
   "cell_type": "code",
   "execution_count": null,
   "metadata": {},
   "outputs": [],
   "source": [
    "results.head(5)"
   ]
  },
  {
   "cell_type": "code",
   "execution_count": null,
   "metadata": {},
   "outputs": [],
   "source": [
    "languages = \"LanguageHaveWorkedWith\"\n",
    "salary = \"ConvertedCompYearly\"\n",
    "#Renombramos las columnas que nos interesan\n",
    "results.rename(columns={languages: \"Languages\",salary:\"Salary\"},inplace=True)\n",
    "#Eliminamos las filas que tengan NaN\n",
    "results.dropna(subset=[\"Salary\",\"Languages\"],inplace=True)\n",
    "#Limitamos DataFrame a las columns que nos interesan y ordenamos por el salario\n",
    "results = results.loc[:,[\"Country\",\"Salary\",\"Languages\"]].sort_values(by=\"Salary\")\n",
    "#Realizamos un filtro para el salario\n",
    "filtro = (results[\"Salary\"] >= 10000) & (results[\"Salary\"] <= 3e6)\n",
    "#Aplicamos el filtro a los datos\n",
    "results = results[filtro]\n"
   ]
  },
  {
   "cell_type": "code",
   "execution_count": null,
   "metadata": {},
   "outputs": [],
   "source": [
    "lg = results[\"Languages\"]\n",
    "#Inicializamos una lista con algunos lenguajes\n",
    "all_languages = lg[80568].split(\";\")\n",
    "#Por cada fila en los lenguajes\n",
    "for row in lg:\n",
    "    #Y por cada lenguaje en cada fila\n",
    "    for lang in row.split(\";\"):\n",
    "        #Lo añadimos a la lista\n",
    "        all_languages.append(lang)\n",
    "#Hacemos un set para tener solamente los lenguajes que sean diferentes\n",
    "#Convertimos el set en una lista\n",
    "all_languages = list(set(all_languages))\n",
    "#Ordenamos alfabéticamente\n",
    "all_languages.sort()\n",
    "#Creamos un DataFrame, para los datos creamos un array de ceros del tamaño de la lista de lenguajes\n",
    "#El index son los lenguajes\n",
    "#Y la columna se nombra \"Salary\"\n",
    "mean_salary = pd.DataFrame(data=np.zeros(len(all_languages)),index=all_languages,columns=[\"Salary\"])\n"
   ]
  },
  {
   "cell_type": "code",
   "execution_count": null,
   "metadata": {},
   "outputs": [],
   "source": [
    "import re\n",
    "#Para cada lenguaje en la lista de lenguajes\n",
    "for lang in all_languages:\n",
    "    try:\n",
    "        #Realizamos una máscara, y obtenemos las filas que contienen ese lenguaje\n",
    "        mask = results[\"Languages\"].str.contains(re.escape(lang))\n",
    "        #Hacemos un promedio de los salarios en las filas obtenidas en mask\n",
    "        average = results.loc[mask,\"Salary\"].mean()\n",
    "        #Colocamos el promedio en el \"Salary\" para la fila del lenguaje adecuado\n",
    "        mean_salary.loc[lang,\"Salary\"] = average\n",
    "    except Exception:\n",
    "        print(lang)\n",
    "\"\"\"\n",
    "ocupamos el módulo de expresiones regulares\n",
    "para evitar que haya errores al momento\n",
    "de evaluar cada lenguaje en las filas,\n",
    "por ello ocupamos re.escape, debido a que\n",
    "C++ y posiblemente algún otro lenguaje cause un error\n",
    "\"\"\""
   ]
  },
  {
   "cell_type": "code",
   "execution_count": null,
   "metadata": {},
   "outputs": [],
   "source": [
    "colors = [\n",
    "    \"#03071E\",\n",
    "    \"#370617\",\n",
    "    \"#6A040F\",\n",
    "    \"#9D0208\",\n",
    "    \"#D00000\",\n",
    "    \"#DC2F02\",\n",
    "    \"#E85D04\",\n",
    "    \"#F48C06\",\n",
    "    \"#FAA307\",\n",
    "    \"#FFBA08\"\n",
    "]\n",
    "\n",
    "fontdict = {\n",
    "    'family': 'serif',\n",
    "    'color': 'darkred',\n",
    "    'weight': 'normal',\n",
    "    'size': 16\n",
    "}\n",
    "\n"
   ]
  },
  {
   "cell_type": "code",
   "execution_count": 16,
   "metadata": {},
   "outputs": [],
   "source": [
    "#hacemos que nos muestre el gráfico, no incrustado en la libreta, si no en una ventana adicional\n",
    "%matplotlib qt5\n",
    "\n",
    "#aplicamos un estilo, para ver los estilos disponibles, usamos plt.style.avaible()\n",
    "plt.style.use(\"seaborn-v0_8-darkgrid\")\n",
    "#ordenamos el DF por el salario\n",
    "\n",
    "mean_salary.sort_values(by=\"Salary\",inplace=True)\n",
    "#hacemos un gráfico de barras horizontal, le pasamos los lenguajes como index, los datos que están en \"Salary\"\n",
    "plt.barh(mean_salary.index,mean_salary[\"Salary\"],color=colors)\n",
    "#Agregamos una barra vertical para representar el promedio de los salarios promedio, que va desde 0 hasta la longitud de \"Salary\"\n",
    "#Aplicamos color rojo, linea punteada y agregamos un label\n",
    "plt.vlines(mean_salary[\"Salary\"].mean(),0,len(mean_salary[\"Salary\"]),color=\"red\",linestyles=\"dashed\",label=\"Mean Salary\")\n",
    "\n",
    "#Agregamos el titulo del gráfico\n",
    "plt.title(\"Programming Languages Yearly Compentation in 2023\")\n",
    "#Ponemos la etiqueta para los ejes X y Y\n",
    "plt.xlabel(\"Mean Salary in $\")\n",
    "plt.ylabel(\"Programming Languages\")\n",
    "\n",
    "#Agregamos el símbolo de $ a los datos del eje X\n",
    "plt.gca().xaxis.set_major_formatter('${x:1.0f}')\n",
    "#Mostramos la leyenda\n",
    "plt.legend()\n",
    "#Espacía los diferentes elementos para que no se sobrepongan\n",
    "plt.tight_layout()\n",
    "#Mostramos el gráfico\n",
    "plt.show()\n"
   ]
  },
  {
   "cell_type": "code",
   "execution_count": null,
   "metadata": {},
   "outputs": [],
   "source": []
  }
 ],
 "metadata": {
  "kernelspec": {
   "display_name": "venv",
   "language": "python",
   "name": "python3"
  },
  "language_info": {
   "codemirror_mode": {
    "name": "ipython",
    "version": 3
   },
   "file_extension": ".py",
   "mimetype": "text/x-python",
   "name": "python",
   "nbconvert_exporter": "python",
   "pygments_lexer": "ipython3",
   "version": "3.12.3"
  }
 },
 "nbformat": 4,
 "nbformat_minor": 2
}
