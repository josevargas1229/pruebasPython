{
 "cells": [
  {
   "cell_type": "markdown",
   "metadata": {},
   "source": [
    "¿Cómo agregar una lista a un DataFrame?"
   ]
  },
  {
   "cell_type": "code",
   "execution_count": null,
   "metadata": {},
   "outputs": [],
   "source": [
    "import pandas as pd\n",
    "personas = {\n",
    "    \"nombre\": [\"Dimas\",\"Juan\",\"Jose\"],\n",
    "    \"edad\":[20,23,25],\n",
    "    \"dni\": [\"48014003P\",\"48014003P\",\"48014003P\"]\n",
    "}\n",
    "\n",
    "df = pd.DataFrame(personas)\n",
    "#Método 1: Sintaxis básica\n",
    "df[\"Profesiones\"] = [\"Ingeniero\",\"Maestro\",\"Bombero\"]\n",
    "#Método 2: Assign\n",
    "df = df.assign(sueldo=[20000,30e3,40e3])\n",
    "#Método 3: insert\n",
    "#El método insert modifica directamente el DF por lo que no tenemos que reasignarlo\n",
    "df.insert(3, \"email\",[\"dimas@email\",\"juan@email\",\"jose@jose\"])\n",
    "df"
   ]
  },
  {
   "cell_type": "code",
   "execution_count": null,
   "metadata": {},
   "outputs": [],
   "source": []
  }
 ],
 "metadata": {
  "kernelspec": {
   "display_name": "venv",
   "language": "python",
   "name": "python3"
  },
  "language_info": {
   "codemirror_mode": {
    "name": "ipython",
    "version": 3
   },
   "file_extension": ".py",
   "mimetype": "text/x-python",
   "name": "python",
   "nbconvert_exporter": "python",
   "pygments_lexer": "ipython3",
   "version": "3.12.3"
  }
 },
 "nbformat": 4,
 "nbformat_minor": 2
}
