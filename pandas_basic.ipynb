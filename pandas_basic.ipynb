{
 "cells": [
  {
   "cell_type": "markdown",
   "metadata": {},
   "source": [
    "¿Cómo agregar una lista a un DataFrame?"
   ]
  },
  {
   "cell_type": "code",
   "execution_count": 2,
   "metadata": {},
   "outputs": [
    {
     "data": {
      "text/html": [
       "<div>\n",
       "<style scoped>\n",
       "    .dataframe tbody tr th:only-of-type {\n",
       "        vertical-align: middle;\n",
       "    }\n",
       "\n",
       "    .dataframe tbody tr th {\n",
       "        vertical-align: top;\n",
       "    }\n",
       "\n",
       "    .dataframe thead th {\n",
       "        text-align: right;\n",
       "    }\n",
       "</style>\n",
       "<table border=\"1\" class=\"dataframe\">\n",
       "  <thead>\n",
       "    <tr style=\"text-align: right;\">\n",
       "      <th></th>\n",
       "      <th>nombre</th>\n",
       "      <th>edad</th>\n",
       "      <th>dni</th>\n",
       "      <th>email</th>\n",
       "      <th>Profesiones</th>\n",
       "      <th>sueldo</th>\n",
       "    </tr>\n",
       "  </thead>\n",
       "  <tbody>\n",
       "    <tr>\n",
       "      <th>0</th>\n",
       "      <td>Dimas</td>\n",
       "      <td>20</td>\n",
       "      <td>48014003P</td>\n",
       "      <td>dimas@email</td>\n",
       "      <td>Ingeniero</td>\n",
       "      <td>20000.0</td>\n",
       "    </tr>\n",
       "    <tr>\n",
       "      <th>1</th>\n",
       "      <td>Juan</td>\n",
       "      <td>23</td>\n",
       "      <td>48014003P</td>\n",
       "      <td>juan@email</td>\n",
       "      <td>Maestro</td>\n",
       "      <td>30000.0</td>\n",
       "    </tr>\n",
       "    <tr>\n",
       "      <th>2</th>\n",
       "      <td>Jose</td>\n",
       "      <td>25</td>\n",
       "      <td>48014003P</td>\n",
       "      <td>jose@jose</td>\n",
       "      <td>Bombero</td>\n",
       "      <td>40000.0</td>\n",
       "    </tr>\n",
       "  </tbody>\n",
       "</table>\n",
       "</div>"
      ],
      "text/plain": [
       "  nombre  edad        dni        email Profesiones   sueldo\n",
       "0  Dimas    20  48014003P  dimas@email   Ingeniero  20000.0\n",
       "1   Juan    23  48014003P   juan@email     Maestro  30000.0\n",
       "2   Jose    25  48014003P    jose@jose     Bombero  40000.0"
      ]
     },
     "execution_count": 2,
     "metadata": {},
     "output_type": "execute_result"
    }
   ],
   "source": [
    "import pandas as pd\n",
    "personas = {\n",
    "    \"nombre\": [\"Dimas\",\"Juan\",\"Jose\"],\n",
    "    \"edad\":[20,23,25],\n",
    "    \"dni\": [\"48014003P\",\"48014003P\",\"48014003P\"]\n",
    "}\n",
    "\n",
    "df = pd.DataFrame(personas)\n",
    "#Método 1: Sintaxis básica\n",
    "df[\"Profesiones\"] = [\"Ingeniero\",\"Maestro\",\"Bombero\"]\n",
    "#Método 2: Assign\n",
    "df = df.assign(sueldo=[20000,30e3,40e3])\n",
    "#Método 3: insert\n",
    "#El método insert modifica directamente el DF por lo que no tenemos que reasignarlo\n",
    "df.insert(3, \"email\",[\"dimas@email\",\"juan@email\",\"jose@jose\"])\n",
    "df"
   ]
  },
  {
   "cell_type": "code",
   "execution_count": null,
   "metadata": {},
   "outputs": [],
   "source": []
  }
 ],
 "metadata": {
  "kernelspec": {
   "display_name": ".venv",
   "language": "python",
   "name": "python3"
  },
  "language_info": {
   "codemirror_mode": {
    "name": "ipython",
    "version": 3
   },
   "file_extension": ".py",
   "mimetype": "text/x-python",
   "name": "python",
   "nbconvert_exporter": "python",
   "pygments_lexer": "ipython3",
   "version": "3.13.3"
  }
 },
 "nbformat": 4,
 "nbformat_minor": 2
}
