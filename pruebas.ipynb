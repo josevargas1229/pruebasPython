{
 "cells": [
  {
   "cell_type": "markdown",
   "id": "59833252",
   "metadata": {},
   "source": [
    "Declaración de variables\n",
    "Sintaxis:\n",
    "Las variables se declaran asignando un valor con =.\n",
    "No se requiere especificar el tipo de dato (tipado dinámico).\n",
    "Ejemplo: nombre = \"Juan\", edad = 25, pi = 3.14\n",
    "Consideraciones:\n",
    "Los nombres de variables deben ser descriptivos, en minúsculas y usar _ para separar palabras (estilo snake_case). Ejemplo: total_compra.\n",
    "Evita palabras reservadas como if, for, class, etc.\n",
    "Python es sensible a mayúsculas/minúsculas: Nombre ≠ nombre.\n",
    "Las variables no inicializadas no existen hasta que se les asigna un valor."
   ]
  },
  {
   "cell_type": "markdown",
   "id": "a475e458",
   "metadata": {},
   "source": [
    "Estructuras condicionales\n",
    "Sintaxis (if, elif, else)\n",
    "Consideraciones:\n",
    "Usa operadores lógicos: and, or, not.\n",
    "Las condiciones deben evaluar a True o False.\n",
    "Puedes anidar condicionales, pero mantén la legibilidad."
   ]
  },
  {
   "cell_type": "code",
   "execution_count": 4,
   "id": "84d5d434",
   "metadata": {},
   "outputs": [
    {
     "name": "stdout",
     "output_type": "stream",
     "text": [
      "Adolescente y peso mayor o igual a 50\n"
     ]
    }
   ],
   "source": [
    "edad = 17\n",
    "peso=30\n",
    "if edad >= 18 and peso >= 70:\n",
    "    print(\"Mayor de edad y peso mayor o igual a 70\")\n",
    "elif edad >= 13 or peso >=50:\n",
    "    print(\"Adolescente y peso mayor o igual a 50\")\n",
    "else:\n",
    "    print(\"Menor y peso menor a 50\")"
   ]
  },
  {
   "cell_type": "markdown",
   "id": "58d66893",
   "metadata": {},
   "source": [
    "Estructuras repetitivas\n",
    "Bucle for:\n",
    "Itera sobre secuencias (listas, tuplas, strings, rangos).\n",
    "\n",
    "Bucle while:\n",
    "Se ejecuta mientras una condición sea verdadera.\n",
    "Usa break para salir de un bucle y continue para saltar a la siguiente iteración.\n",
    "Evita bucles infinitos asegurándote de que la condición del while eventualmente sea falsa.\n",
    "range(start, stop, step) es útil para generar secuencias en for."
   ]
  },
  {
   "cell_type": "code",
   "execution_count": 7,
   "id": "985e74de",
   "metadata": {},
   "outputs": [
    {
     "name": "stdout",
     "output_type": "stream",
     "text": [
      "Bucle for\n",
      "0\n",
      "1\n",
      "2\n",
      "3\n",
      "4\n",
      "Bucle while\n",
      "0\n",
      "1\n",
      "2\n",
      "3\n",
      "4\n"
     ]
    }
   ],
   "source": [
    "#Bucle for\n",
    "print(\"Bucle for\")\n",
    "for i in range(5):  # Itera de 0 a 4\n",
    "    print(i)\n",
    "#Bucle while\n",
    "print(\"Bucle while\")\n",
    "contador = 0\n",
    "while contador < 5:\n",
    "    print(contador)\n",
    "    contador += 1"
   ]
  },
  {
   "cell_type": "markdown",
   "id": "717e8b53",
   "metadata": {},
   "source": [
    "Tipos de datos compuestos"
   ]
  },
  {
   "cell_type": "markdown",
   "id": "ba9b059d",
   "metadata": {},
   "source": [
    "Listas\n",
    "Definición: Colección ordenada y mutable.\n",
    "Operaciones comunes:\n",
    "Agregar: lista.append(elemento), lista.extend([1, 2]).\n",
    "Eliminar: lista.pop(indice), lista.remove(valor).\n",
    "Modificar: lista[indice] = nuevo_valor.\n",
    "Slicing: lista[inicio:fin:paso].\n",
    "Consideraciones:\n",
    "Los índices comienzan en 0.\n",
    "El fin en slicing no se incluye.\n",
    "Son mutables, pero cuidado al modificar listas dentro de funciones (pasa por referencia)."
   ]
  },
  {
   "cell_type": "code",
   "execution_count": 8,
   "id": "508638ce",
   "metadata": {},
   "outputs": [
    {
     "name": "stdout",
     "output_type": "stream",
     "text": [
      "[1, 2, 3]\n",
      "[0, 1, 2]\n",
      "[0, 2, 4]\n",
      "[4, 3, 2, 1, 0]\n"
     ]
    }
   ],
   "source": [
    "lista = [0, 1, 2, 3, 4]\n",
    "print(lista[1:4])    # [1, 2, 3]\n",
    "print(lista[:3])     # [0, 1, 2]\n",
    "print(lista[::2])    # [0, 2, 4]\n",
    "print(lista[::-1])   # [4, 3, 2, 1, 0] (inversa)"
   ]
  },
  {
   "cell_type": "markdown",
   "id": "4df04fa0",
   "metadata": {},
   "source": [
    "Tuplas\n",
    "Definición: Colección ordenada e inmutable.\n",
    "Operaciones comunes:\n",
    "Acceso: tupla[indice].\n",
    "No se pueden modificar (inmutables).\n",
    "Slicing: Igual que en listas.\n",
    "Consideraciones:\n",
    "Útiles para datos que no deben cambiar.\n",
    "Más eficientes en memoria que las listas."
   ]
  },
  {
   "cell_type": "code",
   "execution_count": 9,
   "id": "44613e47",
   "metadata": {},
   "outputs": [
    {
     "name": "stdout",
     "output_type": "stream",
     "text": [
      "(1, 2)\n",
      "(4, 3, 2, 1, 0)\n"
     ]
    }
   ],
   "source": [
    "tupla = (0, 1, 2, 3, 4)\n",
    "print(tupla[1:3])  # (1, 2)\n",
    "print(tupla[::-1]) # (4, 3, 2, 1, 0)"
   ]
  },
  {
   "cell_type": "markdown",
   "id": "199e6f04",
   "metadata": {},
   "source": [
    "Conjuntos\n",
    "Definición: Colección no ordenada de elementos únicos.\n",
    "Operaciones comunes:\n",
    "Agregar: conjunto.add(elemento).\n",
    "Eliminar: conjunto.remove(elemento) o conjunto.discard(elemento) (no da error si no existe).\n",
    "Operaciones de conjuntos: union(), intersection(), difference().\n",
    "Slicing:\n",
    "No aplica, ya que los conjuntos no tienen orden ni índices.\n",
    "Consideraciones:\n",
    "Ideal para eliminar duplicados o realizar operaciones matemáticas de conjuntos.\n",
    "No permite elementos mutables como listas dentro de un conjunto."
   ]
  },
  {
   "cell_type": "code",
   "execution_count": 15,
   "id": "cc1587a4",
   "metadata": {},
   "outputs": [
    {
     "name": "stdout",
     "output_type": "stream",
     "text": [
      "{1, 2, 3}\n",
      "{1, 2, 3, 4}\n",
      "{1, 3, 4}\n",
      "{1, 3, 4}\n"
     ]
    }
   ],
   "source": [
    "conjunto = {1, 2, 3}\n",
    "print(conjunto)  # {1, 2, 3}\n",
    "conjunto.add(4)\n",
    "print(conjunto)  # {1, 2, 3, 4}\n",
    "conjunto.remove(2)\n",
    "print(conjunto)  # {1, 3, 4}\n",
    "conjunto.discard(5)  # No lanza error si no existe el elemento\n",
    "print(conjunto)  # {1, 3, 4}"
   ]
  },
  {
   "cell_type": "markdown",
   "id": "bcdf9d97",
   "metadata": {},
   "source": [
    "Diccionarios\n",
    "Definición: Colección de pares clave-valor, no ordenada (ordenada desde Python 3.7+).\n",
    "Operaciones comunes:\n",
    "Acceso: diccionario[\"clave\"].\n",
    "Agregar/Modificar: diccionario[\"clave\"] = valor.\n",
    "Eliminar: # diccionario.pop(\"clave\") o del diccionario[\"clave\"].\n",
    "Slicing:\n",
    "No aplica directamente, pero puedes usar slicing en las listas generadas por diccionario.keys(), diccionario.values() o diccionario.items().\n",
    "Consideraciones:\n",
    "Las claves deben ser inmutables (números, strings, tuplas).\n",
    "Usa get(\"clave\", valor_por_defecto) para evitar errores si la clave no existe."
   ]
  },
  {
   "cell_type": "code",
   "execution_count": 13,
   "id": "cc81e692",
   "metadata": {},
   "outputs": [
    {
     "name": "stdout",
     "output_type": "stream",
     "text": [
      "['Juan', 25]\n",
      "[25, 70, 1.75]\n",
      "[1.75, 70, 25, 'Juan']\n"
     ]
    }
   ],
   "source": [
    "diccionario = {\"nombre\": \"Juan\", \"edad\": 25, \"peso\": 70, \"altura\": 1.75}\n",
    "valores = list(diccionario.values())\n",
    "print(valores[:2])  # Primeros dos valores\n",
    "print(valores[1:])   # Desde el segundo hasta el final\n",
    "print(valores[::-1]) # Inversa de los valores"
   ]
  },
  {
   "cell_type": "markdown",
   "id": "816afa26",
   "metadata": {},
   "source": [
    "Consideraciones generales sobre slicing\n",
    "Sintaxis: [inicio:fin:paso]\n",
    "inicio: índice donde comienza (incluido).\n",
    "fin: índice donde termina (excluido).\n",
    "paso: incremento (puede ser negativo para invertir).\n",
    "Aplicable a: Listas, tuplas, strings.\n",
    "No aplicable a: Conjuntos, diccionarios (directamente)."
   ]
  },
  {
   "cell_type": "code",
   "execution_count": 14,
   "id": "f7fa6f7b",
   "metadata": {},
   "outputs": [
    {
     "name": "stdout",
     "output_type": "stream",
     "text": [
      "Hola\n",
      "odnum aloH\n"
     ]
    }
   ],
   "source": [
    "#Slicing en cadenas\n",
    "texto = \"Hola mundo\"\n",
    "print(texto[0:4])    # \"Hola\"\n",
    "print(texto[::-1])   # \"odnum aloH\""
   ]
  },
  {
   "cell_type": "code",
   "execution_count": 1,
   "id": "32fa0a0c",
   "metadata": {},
   "outputs": [
    {
     "name": "stdout",
     "output_type": "stream",
     "text": [
      "    *\n",
      "   **\n",
      "  ***\n",
      " ****\n",
      "*****\n"
     ]
    }
   ],
   "source": [
    "def piramide(n):\n",
    "    for i in range(1,n+1):\n",
    "        print(\" \" * (n - i) + \"*\" * i)\n",
    "piramide(5)"
   ]
  }
 ],
 "metadata": {
  "kernelspec": {
   "display_name": ".venv",
   "language": "python",
   "name": "python3"
  },
  "language_info": {
   "codemirror_mode": {
    "name": "ipython",
    "version": 3
   },
   "file_extension": ".py",
   "mimetype": "text/x-python",
   "name": "python",
   "nbconvert_exporter": "python",
   "pygments_lexer": "ipython3",
   "version": "3.13.3"
  }
 },
 "nbformat": 4,
 "nbformat_minor": 5
}
